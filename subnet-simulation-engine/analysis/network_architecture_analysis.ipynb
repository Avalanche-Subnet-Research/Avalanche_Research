{
 "cells": [
  {
   "cell_type": "code",
   "execution_count": 2,
   "metadata": {},
   "outputs": [
    {
     "name": "stdout",
     "output_type": "stream",
     "text": [
      "/Users/idrees/Code/Avalanche_Research/subnet-simulation-engine/analysis\n",
      "['/Users/idrees/Code/Avalanche_Research/subnet-simulation-engine', '/Users/idrees/Code/Avalanche_Research/subnet-simulation-engine', '/opt/homebrew/Cellar/python@3.9/3.9.19_1/Frameworks/Python.framework/Versions/3.9/lib/python39.zip', '/opt/homebrew/Cellar/python@3.9/3.9.19_1/Frameworks/Python.framework/Versions/3.9/lib/python3.9', '/opt/homebrew/Cellar/python@3.9/3.9.19_1/Frameworks/Python.framework/Versions/3.9/lib/python3.9/lib-dynload', '', '/Users/idrees/Code/Avalanche_Research/subnet_venv/lib/python3.9/site-packages']\n",
      "Loaded configuration: {'transaction_throughput_params': {'base_throughput': 1000}, 'block_size_params': {'base_block_size': 1, 'block_interval': 10, 'network_bandwidth': 100}, 'consensus_params': {'type': 'PoS', 'efficiency': 0.9}, 'latency_params': {'base_latency': 100, 'geographical_factor': 1.2}, 'topology_params': {'type': 'fully_connected'}, 'fault_tolerance_params': {'base_fault_tolerance': 0.95, 'redundancy_factor': 1.1}}\n"
     ]
    },
    {
     "data": {
      "image/png": "[encoded data removed]",
      "text/plain": [
       "<Figure size 1000x600 with 1 Axes>"
      ]
     },
     "metadata": {},
     "output_type": "display_data"
    }
   ],
   "source": [
    "# Step 1: Import necessary modules and classes\n",
    "import sys\n",
    "import os\n",
    "import json\n",
    "import matplotlib.pyplot as plt\n",
    "\n",
    "# Print the current working directory to confirm\n",
    "print(os.getcwd())\n",
    "\n",
    "# Add the parent directory to the system path\n",
    "sys.path.insert(0, os.path.abspath(os.path.join(os.getcwd(), '..')))\n",
    "\n",
    "# Verify the new system path\n",
    "print(sys.path)\n",
    "\n",
    "from simulation_engine.config.config_manager import ConfigManager\n",
    "from simulation_engine.core.network_architecture_model import NetworkArchitectureModel\n",
    "\n",
    "# Step 2: Define ConfigManager class\n",
    "class ConfigManager:\n",
    "    @staticmethod\n",
    "    def load_config(file_path):\n",
    "        with open(file_path, 'r') as file:\n",
    "            config = json.load(file)\n",
    "        print(\"Loaded configuration:\", config)  # Add this line for debugging\n",
    "        return config\n",
    "\n",
    "# Step 3: Load configuration\n",
    "# Adjust the file path as needed based on your current working directory\n",
    "config_file = '../examples/example_network_architecture_config.json'\n",
    "config = ConfigManager.load_config(config_file)\n",
    "\n",
    "# Step 4: Run Network Architecture Simulation\n",
    "network_model = NetworkArchitectureModel(\n",
    "    config['transaction_throughput_params'],\n",
    "    config['block_size_params'],\n",
    "    config['consensus_params'],\n",
    "    config['latency_params'],\n",
    "    config['topology_params'],\n",
    "    config['fault_tolerance_params']\n",
    ")\n",
    "\n",
    "network_architecture = network_model.simulate_network_architecture()\n",
    "\n",
    "# Step 5: Extract data for analysis and visualization\n",
    "transaction_throughput = network_architecture['transaction_throughput']\n",
    "block_size_info = network_architecture['block_size_info']\n",
    "consensus_info = network_architecture['consensus_info']\n",
    "latency = network_architecture['latency']\n",
    "topology_info = network_architecture['topology_info']\n",
    "fault_tolerance = network_architecture['fault_tolerance']\n",
    "\n",
    "# Combine data for plotting and analysis\n",
    "plot_data = {\n",
    "    'transaction_throughput': transaction_throughput,\n",
    "    'block_size': block_size_info['block_size'],\n",
    "    'propagation_delay': block_size_info['propagation_delay'],\n",
    "    'consensus_security': consensus_info['security'],\n",
    "    'consensus_decentralization': consensus_info['decentralization'],\n",
    "    'latency': latency,\n",
    "    'topology_fault_tolerance': topology_info['fault_tolerance'],\n",
    "    'topology_efficiency': topology_info['efficiency'],\n",
    "    'fault_tolerance': fault_tolerance\n",
    "}\n",
    "\n",
    "# Step 6: Visualize the results (you can plot this data similar to the methods we've used before)\n",
    "\n",
    "# Example visualization of transaction throughput\n",
    "plt.figure(figsize=(10, 6))\n",
    "plt.bar(['Transaction Throughput'], [transaction_throughput], color='#1f77b4')\n",
    "plt.title('Transaction Throughput')\n",
    "plt.ylabel('TPS')\n",
    "plt.show()\n",
    "\n",
    "# Additional visualizations can be added similarly for other parameters...\n"
   ]
  }
 ],
 "metadata": {
  "kernelspec": {
   "display_name": "subnet_venv",
   "language": "python",
   "name": "python3"
  },
  "language_info": {
   "codemirror_mode": {
    "name": "ipython",
    "version": 3
   },
   "file_extension": ".py",
   "mimetype": "text/x-python",
   "name": "python",
   "nbconvert_exporter": "python",
   "pygments_lexer": "ipython3",
   "version": "3.9.19"
  }
 },
 "nbformat": 4,
 "nbformat_minor": 2
}
