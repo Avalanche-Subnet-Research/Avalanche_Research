{
 "cells": [
  {
   "cell_type": "code",
   "execution_count": 2,
   "metadata": {},
   "outputs": [],
   "source": [
    "import sys\n",
    "import os\n",
    "import json\n",
    "import matplotlib.pyplot as plt\n",
    "\n",
    "\n",
    "# Add the parent directory to the system path\n",
    "sys.path.insert(0, os.path.abspath(os.path.join(os.getcwd(), '..')))\n",
    "\n",
    "\n",
    "\n",
    "from simulation_engine.config.config_manager import ConfigManager\n",
    "from simulation_engine.core.economic_model import EconomicModel\n",
    "from simulation_engine.core.validator_config import ValidatorConfig\n",
    "from simulation_engine.core.network_architecture_model import NetworkArchitectureModel\n",
    "from simulation_engine.core.security_model import SecurityModel\n",
    "from simulation_engine.engine.sim_engine import SimulationEngine\n",
    "from simulation_engine.utils.visualization import plot_results\n",
    "\n",
    "from experiments.evaluate_metrics import EvaluateMetrics\n",
    "\n",
    "BASE_DIR = os.path.abspath(os.path.join(os.getcwd(), '../examples'))\n",
    "\n",
    "# Function to load configuration files\n",
    "def load_config_file(filename):\n",
    "    return ConfigManager.load_config(os.path.join(BASE_DIR, filename))\n",
    "\n",
    "# Load all configurations\n",
    "econ_config = load_config_file('example_economic_model.json')\n",
    "sec_config = load_config_file('example_security_model.json')\n",
    "val_config = load_config_file('example_validator_config.json')\n",
    "net_config = load_config_file('example_network_architecture_config.json')\n",
    "\n",
    "# Initialize models with configurations\n",
    "economic_model = EconomicModel(\n",
    "    econ_config['total_supply'], \n",
    "    econ_config['initial_distribution'], \n",
    "    econ_config['fee_rate'],\n",
    "    econ_config['transaction_volume'],\n",
    "    econ_config['staking_rewards'],\n",
    "    econ_config['lock_up_periods']\n",
    ")\n",
    "\n",
    "security_model = SecurityModel(sec_config['slashing_conditions'])\n",
    "\n",
    "validator_config = ValidatorConfig(\n",
    "    val_config['criteria'],\n",
    "    val_config['min_stake'],\n",
    "    val_config['staking_token'],\n",
    "    val_config['reward_mechanisms'],\n",
    "    val_config['performance_metrics']\n",
    ")\n",
    "\n",
    "network_model = NetworkArchitectureModel(\n",
    "    net_config['transaction_throughput_params'],\n",
    "    net_config['block_size_params'],\n",
    "    net_config['consensus_params'],\n",
    "    net_config['latency_params'],\n",
    "    net_config['topology_params'],\n",
    "    net_config['fault_tolerance_params']\n",
    ")\n",
    "\n",
    "# Run simulations\n",
    "#economics = economic_model.simulate_economics()\n",
    "#security = security_model.simulate_security()\n",
    "#validators = validator_config.simulate_validator_config()\n",
    "#network_architecture = network_model.simulate_network_architecture()\n",
    "eval_metrics = EvaluateMetrics(economic_model, security_model, validator_config, network_model)\n"
   ]
  },
  {
   "cell_type": "code",
   "execution_count": 3,
   "metadata": {},
   "outputs": [
    {
     "ename": "KeyError",
     "evalue": "'uptime'",
     "output_type": "error",
     "traceback": [
      "\u001b[0;31m---------------------------------------------------------------------------\u001b[0m",
      "\u001b[0;31mKeyError\u001b[0m                                  Traceback (most recent call last)",
      "Cell \u001b[0;32mIn[3], line 2\u001b[0m\n\u001b[1;32m      1\u001b[0m simulation_engine \u001b[38;5;241m=\u001b[39m SimulationEngine(eval_metrics, time_steps\u001b[38;5;241m=\u001b[39m\u001b[38;5;241m365\u001b[39m)\n\u001b[0;32m----> 2\u001b[0m \u001b[43msimulation_engine\u001b[49m\u001b[38;5;241;43m.\u001b[39;49m\u001b[43mrun\u001b[49m\u001b[43m(\u001b[49m\u001b[43m)\u001b[49m\n",
      "File \u001b[0;32m~/Code/Avalanche_Research/subnet-simulation-engine/simulation_engine/engine/sim_engine.py:10\u001b[0m, in \u001b[0;36mSimulationEngine.run\u001b[0;34m(self)\u001b[0m\n\u001b[1;32m      8\u001b[0m \u001b[38;5;28;01mdef\u001b[39;00m \u001b[38;5;21mrun\u001b[39m(\u001b[38;5;28mself\u001b[39m):\n\u001b[1;32m      9\u001b[0m     \u001b[38;5;66;03m# Run the simulation over the specified number of time steps\u001b[39;00m\n\u001b[0;32m---> 10\u001b[0m     metrics \u001b[38;5;241m=\u001b[39m \u001b[38;5;28;43mself\u001b[39;49m\u001b[38;5;241;43m.\u001b[39;49m\u001b[43mevaluate_metrics\u001b[49m\u001b[38;5;241;43m.\u001b[39;49m\u001b[43mrun_simulation\u001b[49m\u001b[43m(\u001b[49m\u001b[38;5;28;43mself\u001b[39;49m\u001b[38;5;241;43m.\u001b[39;49m\u001b[43mtime_steps\u001b[49m\u001b[43m)\u001b[49m\n\u001b[1;32m     11\u001b[0m     \u001b[38;5;28mself\u001b[39m\u001b[38;5;241m.\u001b[39mplot_results(metrics)\n",
      "File \u001b[0;32m~/Code/Avalanche_Research/subnet-simulation-engine/experiments/evaluate_metrics.py:38\u001b[0m, in \u001b[0;36mEvaluateMetrics.run_simulation\u001b[0;34m(self, time_steps)\u001b[0m\n\u001b[1;32m     36\u001b[0m metrics_over_time[\u001b[38;5;124m'\u001b[39m\u001b[38;5;124mtps\u001b[39m\u001b[38;5;124m'\u001b[39m]\u001b[38;5;241m.\u001b[39mappend(network_architecture[\u001b[38;5;124m'\u001b[39m\u001b[38;5;124mtransaction_throughput\u001b[39m\u001b[38;5;124m'\u001b[39m])\n\u001b[1;32m     37\u001b[0m metrics_over_time[\u001b[38;5;124m'\u001b[39m\u001b[38;5;124mfinality_time\u001b[39m\u001b[38;5;124m'\u001b[39m]\u001b[38;5;241m.\u001b[39mappend(network_architecture[\u001b[38;5;124m'\u001b[39m\u001b[38;5;124mblock_size_info\u001b[39m\u001b[38;5;124m'\u001b[39m][\u001b[38;5;124m'\u001b[39m\u001b[38;5;124mpropagation_delay\u001b[39m\u001b[38;5;124m'\u001b[39m])\n\u001b[0;32m---> 38\u001b[0m metrics_over_time[\u001b[38;5;124m'\u001b[39m\u001b[38;5;124mvalidator_uptime\u001b[39m\u001b[38;5;124m'\u001b[39m]\u001b[38;5;241m.\u001b[39mappend(\u001b[38;5;28;43msum\u001b[39;49m\u001b[43m(\u001b[49m\u001b[43mvalidator\u001b[49m\u001b[43m[\u001b[49m\u001b[38;5;124;43m'\u001b[39;49m\u001b[38;5;124;43muptime\u001b[39;49m\u001b[38;5;124;43m'\u001b[39;49m\u001b[43m]\u001b[49m\u001b[43m \u001b[49m\u001b[38;5;28;43;01mfor\u001b[39;49;00m\u001b[43m \u001b[49m\u001b[43mvalidator\u001b[49m\u001b[43m \u001b[49m\u001b[38;5;129;43;01min\u001b[39;49;00m\u001b[43m \u001b[49m\u001b[43mvalidators\u001b[49m\u001b[43m[\u001b[49m\u001b[38;5;124;43m'\u001b[39;49m\u001b[38;5;124;43mselected_validators\u001b[39;49m\u001b[38;5;124;43m'\u001b[39;49m\u001b[43m]\u001b[49m\u001b[43m)\u001b[49m \u001b[38;5;241m/\u001b[39m \u001b[38;5;28mlen\u001b[39m(validators[\u001b[38;5;124m'\u001b[39m\u001b[38;5;124mselected_validators\u001b[39m\u001b[38;5;124m'\u001b[39m]))\n\u001b[1;32m     39\u001b[0m metrics_over_time[\u001b[38;5;124m'\u001b[39m\u001b[38;5;124mvalidator_rewards\u001b[39m\u001b[38;5;124m'\u001b[39m]\u001b[38;5;241m.\u001b[39mappend(\u001b[38;5;28msum\u001b[39m(validator[\u001b[38;5;124m'\u001b[39m\u001b[38;5;124mrewards\u001b[39m\u001b[38;5;124m'\u001b[39m] \u001b[38;5;28;01mfor\u001b[39;00m validator \u001b[38;5;129;01min\u001b[39;00m validators[\u001b[38;5;124m'\u001b[39m\u001b[38;5;124mrewarded_validators\u001b[39m\u001b[38;5;124m'\u001b[39m]))\n\u001b[1;32m     40\u001b[0m metrics_over_time[\u001b[38;5;124m'\u001b[39m\u001b[38;5;124mslashing_events\u001b[39m\u001b[38;5;124m'\u001b[39m]\u001b[38;5;241m.\u001b[39mappend(\u001b[38;5;28mlen\u001b[39m(security[\u001b[38;5;124m'\u001b[39m\u001b[38;5;124mslashed_validators\u001b[39m\u001b[38;5;124m'\u001b[39m]))\n",
      "File \u001b[0;32m~/Code/Avalanche_Research/subnet-simulation-engine/experiments/evaluate_metrics.py:38\u001b[0m, in \u001b[0;36m<genexpr>\u001b[0;34m(.0)\u001b[0m\n\u001b[1;32m     36\u001b[0m metrics_over_time[\u001b[38;5;124m'\u001b[39m\u001b[38;5;124mtps\u001b[39m\u001b[38;5;124m'\u001b[39m]\u001b[38;5;241m.\u001b[39mappend(network_architecture[\u001b[38;5;124m'\u001b[39m\u001b[38;5;124mtransaction_throughput\u001b[39m\u001b[38;5;124m'\u001b[39m])\n\u001b[1;32m     37\u001b[0m metrics_over_time[\u001b[38;5;124m'\u001b[39m\u001b[38;5;124mfinality_time\u001b[39m\u001b[38;5;124m'\u001b[39m]\u001b[38;5;241m.\u001b[39mappend(network_architecture[\u001b[38;5;124m'\u001b[39m\u001b[38;5;124mblock_size_info\u001b[39m\u001b[38;5;124m'\u001b[39m][\u001b[38;5;124m'\u001b[39m\u001b[38;5;124mpropagation_delay\u001b[39m\u001b[38;5;124m'\u001b[39m])\n\u001b[0;32m---> 38\u001b[0m metrics_over_time[\u001b[38;5;124m'\u001b[39m\u001b[38;5;124mvalidator_uptime\u001b[39m\u001b[38;5;124m'\u001b[39m]\u001b[38;5;241m.\u001b[39mappend(\u001b[38;5;28msum\u001b[39m(\u001b[43mvalidator\u001b[49m\u001b[43m[\u001b[49m\u001b[38;5;124;43m'\u001b[39;49m\u001b[38;5;124;43muptime\u001b[39;49m\u001b[38;5;124;43m'\u001b[39;49m\u001b[43m]\u001b[49m \u001b[38;5;28;01mfor\u001b[39;00m validator \u001b[38;5;129;01min\u001b[39;00m validators[\u001b[38;5;124m'\u001b[39m\u001b[38;5;124mselected_validators\u001b[39m\u001b[38;5;124m'\u001b[39m]) \u001b[38;5;241m/\u001b[39m \u001b[38;5;28mlen\u001b[39m(validators[\u001b[38;5;124m'\u001b[39m\u001b[38;5;124mselected_validators\u001b[39m\u001b[38;5;124m'\u001b[39m]))\n\u001b[1;32m     39\u001b[0m metrics_over_time[\u001b[38;5;124m'\u001b[39m\u001b[38;5;124mvalidator_rewards\u001b[39m\u001b[38;5;124m'\u001b[39m]\u001b[38;5;241m.\u001b[39mappend(\u001b[38;5;28msum\u001b[39m(validator[\u001b[38;5;124m'\u001b[39m\u001b[38;5;124mrewards\u001b[39m\u001b[38;5;124m'\u001b[39m] \u001b[38;5;28;01mfor\u001b[39;00m validator \u001b[38;5;129;01min\u001b[39;00m validators[\u001b[38;5;124m'\u001b[39m\u001b[38;5;124mrewarded_validators\u001b[39m\u001b[38;5;124m'\u001b[39m]))\n\u001b[1;32m     40\u001b[0m metrics_over_time[\u001b[38;5;124m'\u001b[39m\u001b[38;5;124mslashing_events\u001b[39m\u001b[38;5;124m'\u001b[39m]\u001b[38;5;241m.\u001b[39mappend(\u001b[38;5;28mlen\u001b[39m(security[\u001b[38;5;124m'\u001b[39m\u001b[38;5;124mslashed_validators\u001b[39m\u001b[38;5;124m'\u001b[39m]))\n",
      "\u001b[0;31mKeyError\u001b[0m: 'uptime'"
     ]
    }
   ],
   "source": [
    "simulation_engine = SimulationEngine(eval_metrics, time_steps=365)\n",
    "simulation_engine.run()"
   ]
  }
 ],
 "metadata": {
  "kernelspec": {
   "display_name": "subnet_venv",
   "language": "python",
   "name": "python3"
  },
  "language_info": {
   "codemirror_mode": {
    "name": "ipython",
    "version": 3
   },
   "file_extension": ".py",
   "mimetype": "text/x-python",
   "name": "python",
   "nbconvert_exporter": "python",
   "pygments_lexer": "ipython3",
   "version": "3.9.19"
  }
 },
 "nbformat": 4,
 "nbformat_minor": 2
}
