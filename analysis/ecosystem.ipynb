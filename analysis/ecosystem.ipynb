{
 "cells": [
  {
   "cell_type": "code",
   "execution_count": 1,
   "metadata": {},
   "outputs": [
    {
     "name": "stdout",
     "output_type": "stream",
     "text": [
      "Distributed 50.0 rewards to Validator(id=1, stake=2000, cost_per_validator=250)\n",
      "Distributed 50.0 rewards to Validator(id=2, stake=3000, cost_per_validator=250)\n",
      "PChain(validators=2, subnets=2, network_activity=5000)\n"
     ]
    }
   ],
   "source": [
    "import sys\n",
    "import os\n",
    "sys.path.append(os.path.abspath('/Users/idrees/Code/Avalanche_Research/'))\n",
    "from model.ecosystem_model import Model\n",
    "\n",
    "\n",
    "model = Model()\n",
    "model.add_validator(id=1, stake=2000, cost_per_validator=250)\n",
    "model.add_validator(id=2, stake=3000, cost_per_validator=250)\n",
    "model.add_subnet(id=1, transaction_volume=1000)\n",
    "model.add_subnet(id=2, transaction_volume=2000)\n",
    "\n",
    "# Simulate network activity\n",
    "model.update_network_activity(5000)\n",
    "\n",
    "# Distribute rewards and update transaction volumes\n",
    "model.distribute_rewards()\n",
    "model.update_transaction_volumes()\n",
    "\n",
    "# Add developers to a subnet\n",
    "model.add_developers_to_subnet(subnet_id=1, count=5)\n",
    "\n",
    "# Update validator cost\n",
    "model.update_validator_cost(validator_id=1, new_cost=200)\n",
    "\n",
    "# Print model state\n",
    "print(model)\n"
   ]
  }
 ],
 "metadata": {
  "kernelspec": {
   "display_name": "subnet_venv",
   "language": "python",
   "name": "python3"
  },
  "language_info": {
   "codemirror_mode": {
    "name": "ipython",
    "version": 3
   },
   "file_extension": ".py",
   "mimetype": "text/x-python",
   "name": "python",
   "nbconvert_exporter": "python",
   "pygments_lexer": "ipython3",
   "version": "3.9.19"
  }
 },
 "nbformat": 4,
 "nbformat_minor": 2
}
